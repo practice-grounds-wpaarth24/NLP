{
  "nbformat": 4,
  "nbformat_minor": 0,
  "metadata": {
    "colab": {
      "provenance": [],
      "authorship_tag": "ABX9TyMEXUqKy/ZFWrW7StJSnK9z",
      "include_colab_link": true
    },
    "kernelspec": {
      "name": "python3",
      "display_name": "Python 3"
    },
    "language_info": {
      "name": "python"
    }
  },
  "cells": [
    {
      "cell_type": "markdown",
      "metadata": {
        "id": "view-in-github",
        "colab_type": "text"
      },
      "source": [
        "<a href=\"https://colab.research.google.com/github/practice-grounds-wpaarth24/NLP/blob/main/NLP_NaiveBayes.ipynb\" target=\"_parent\"><img src=\"https://colab.research.google.com/assets/colab-badge.svg\" alt=\"Open In Colab\"/></a>"
      ]
    },
    {
      "cell_type": "code",
      "execution_count": 1,
      "metadata": {
        "colab": {
          "base_uri": "https://localhost:8080/"
        },
        "id": "CL5Iu2J2IPHn",
        "outputId": "d2265b45-1f1f-4414-eecf-790ddbcd0cec"
      },
      "outputs": [
        {
          "output_type": "stream",
          "name": "stdout",
          "text": [
            "--2024-10-24 04:23:02--  https://storage.googleapis.com/ztm_tf_course/nlp_getting_started.zip\n",
            "Resolving storage.googleapis.com (storage.googleapis.com)... 142.251.167.207, 142.251.179.207, 64.233.180.207, ...\n",
            "Connecting to storage.googleapis.com (storage.googleapis.com)|142.251.167.207|:443... connected.\n",
            "HTTP request sent, awaiting response... 200 OK\n",
            "Length: 607343 (593K) [application/zip]\n",
            "Saving to: ‘nlp_getting_started.zip’\n",
            "\n",
            "\rnlp_getting_started   0%[                    ]       0  --.-KB/s               \rnlp_getting_started 100%[===================>] 593.11K  --.-KB/s    in 0.006s  \n",
            "\n",
            "2024-10-24 04:23:02 (99.3 MB/s) - ‘nlp_getting_started.zip’ saved [607343/607343]\n",
            "\n"
          ]
        }
      ],
      "source": [
        "!wget https://storage.googleapis.com/ztm_tf_course/nlp_getting_started.zip"
      ]
    },
    {
      "cell_type": "code",
      "source": [
        "!wget https://raw.githubusercontent.com/mrdbourke/tensorflow-deep-learning/refs/heads/main/extras/helper_functions.py"
      ],
      "metadata": {
        "colab": {
          "base_uri": "https://localhost:8080/"
        },
        "id": "xQk9c_6ZKnyB",
        "outputId": "cf2d81b2-2886-4496-8d88-f39a86f657bd"
      },
      "execution_count": 2,
      "outputs": [
        {
          "output_type": "stream",
          "name": "stdout",
          "text": [
            "--2024-10-24 04:23:04--  https://raw.githubusercontent.com/mrdbourke/tensorflow-deep-learning/refs/heads/main/extras/helper_functions.py\n",
            "Resolving raw.githubusercontent.com (raw.githubusercontent.com)... 185.199.108.133, 185.199.109.133, 185.199.110.133, ...\n",
            "Connecting to raw.githubusercontent.com (raw.githubusercontent.com)|185.199.108.133|:443... connected.\n",
            "HTTP request sent, awaiting response... 200 OK\n",
            "Length: 10246 (10K) [text/plain]\n",
            "Saving to: ‘helper_functions.py’\n",
            "\n",
            "\rhelper_functions.py   0%[                    ]       0  --.-KB/s               \rhelper_functions.py 100%[===================>]  10.01K  --.-KB/s    in 0s      \n",
            "\n",
            "2024-10-24 04:23:04 (66.0 MB/s) - ‘helper_functions.py’ saved [10246/10246]\n",
            "\n"
          ]
        }
      ]
    },
    {
      "cell_type": "code",
      "source": [
        "import zipfile\n",
        "zip_ref = zipfile.ZipFile(\"nlp_getting_started.zip\")\n",
        "zip_ref.extractall()\n",
        "zip_ref.close()"
      ],
      "metadata": {
        "id": "k9s0r8aTKjQG"
      },
      "execution_count": 3,
      "outputs": []
    },
    {
      "cell_type": "code",
      "source": [
        "import pandas as pd\n",
        "train_df = pd.read_csv(\"train.csv\")\n",
        "test_df = pd.read_csv(\"test.csv\")\n",
        "\n",
        "train_df.head()"
      ],
      "metadata": {
        "colab": {
          "base_uri": "https://localhost:8080/",
          "height": 206
        },
        "id": "CAuzv8z0K48e",
        "outputId": "8192b374-cb40-4051-a9e3-e91750515fc9"
      },
      "execution_count": 4,
      "outputs": [
        {
          "output_type": "execute_result",
          "data": {
            "text/plain": [
              "   id keyword location                                               text  \\\n",
              "0   1     NaN      NaN  Our Deeds are the Reason of this #earthquake M...   \n",
              "1   4     NaN      NaN             Forest fire near La Ronge Sask. Canada   \n",
              "2   5     NaN      NaN  All residents asked to 'shelter in place' are ...   \n",
              "3   6     NaN      NaN  13,000 people receive #wildfires evacuation or...   \n",
              "4   7     NaN      NaN  Just got sent this photo from Ruby #Alaska as ...   \n",
              "\n",
              "   target  \n",
              "0       1  \n",
              "1       1  \n",
              "2       1  \n",
              "3       1  \n",
              "4       1  "
            ],
            "text/html": [
              "\n",
              "  <div id=\"df-8d2de135-b873-4f08-8b52-fac7256e0871\" class=\"colab-df-container\">\n",
              "    <div>\n",
              "<style scoped>\n",
              "    .dataframe tbody tr th:only-of-type {\n",
              "        vertical-align: middle;\n",
              "    }\n",
              "\n",
              "    .dataframe tbody tr th {\n",
              "        vertical-align: top;\n",
              "    }\n",
              "\n",
              "    .dataframe thead th {\n",
              "        text-align: right;\n",
              "    }\n",
              "</style>\n",
              "<table border=\"1\" class=\"dataframe\">\n",
              "  <thead>\n",
              "    <tr style=\"text-align: right;\">\n",
              "      <th></th>\n",
              "      <th>id</th>\n",
              "      <th>keyword</th>\n",
              "      <th>location</th>\n",
              "      <th>text</th>\n",
              "      <th>target</th>\n",
              "    </tr>\n",
              "  </thead>\n",
              "  <tbody>\n",
              "    <tr>\n",
              "      <th>0</th>\n",
              "      <td>1</td>\n",
              "      <td>NaN</td>\n",
              "      <td>NaN</td>\n",
              "      <td>Our Deeds are the Reason of this #earthquake M...</td>\n",
              "      <td>1</td>\n",
              "    </tr>\n",
              "    <tr>\n",
              "      <th>1</th>\n",
              "      <td>4</td>\n",
              "      <td>NaN</td>\n",
              "      <td>NaN</td>\n",
              "      <td>Forest fire near La Ronge Sask. Canada</td>\n",
              "      <td>1</td>\n",
              "    </tr>\n",
              "    <tr>\n",
              "      <th>2</th>\n",
              "      <td>5</td>\n",
              "      <td>NaN</td>\n",
              "      <td>NaN</td>\n",
              "      <td>All residents asked to 'shelter in place' are ...</td>\n",
              "      <td>1</td>\n",
              "    </tr>\n",
              "    <tr>\n",
              "      <th>3</th>\n",
              "      <td>6</td>\n",
              "      <td>NaN</td>\n",
              "      <td>NaN</td>\n",
              "      <td>13,000 people receive #wildfires evacuation or...</td>\n",
              "      <td>1</td>\n",
              "    </tr>\n",
              "    <tr>\n",
              "      <th>4</th>\n",
              "      <td>7</td>\n",
              "      <td>NaN</td>\n",
              "      <td>NaN</td>\n",
              "      <td>Just got sent this photo from Ruby #Alaska as ...</td>\n",
              "      <td>1</td>\n",
              "    </tr>\n",
              "  </tbody>\n",
              "</table>\n",
              "</div>\n",
              "    <div class=\"colab-df-buttons\">\n",
              "\n",
              "  <div class=\"colab-df-container\">\n",
              "    <button class=\"colab-df-convert\" onclick=\"convertToInteractive('df-8d2de135-b873-4f08-8b52-fac7256e0871')\"\n",
              "            title=\"Convert this dataframe to an interactive table.\"\n",
              "            style=\"display:none;\">\n",
              "\n",
              "  <svg xmlns=\"http://www.w3.org/2000/svg\" height=\"24px\" viewBox=\"0 -960 960 960\">\n",
              "    <path d=\"M120-120v-720h720v720H120Zm60-500h600v-160H180v160Zm220 220h160v-160H400v160Zm0 220h160v-160H400v160ZM180-400h160v-160H180v160Zm440 0h160v-160H620v160ZM180-180h160v-160H180v160Zm440 0h160v-160H620v160Z\"/>\n",
              "  </svg>\n",
              "    </button>\n",
              "\n",
              "  <style>\n",
              "    .colab-df-container {\n",
              "      display:flex;\n",
              "      gap: 12px;\n",
              "    }\n",
              "\n",
              "    .colab-df-convert {\n",
              "      background-color: #E8F0FE;\n",
              "      border: none;\n",
              "      border-radius: 50%;\n",
              "      cursor: pointer;\n",
              "      display: none;\n",
              "      fill: #1967D2;\n",
              "      height: 32px;\n",
              "      padding: 0 0 0 0;\n",
              "      width: 32px;\n",
              "    }\n",
              "\n",
              "    .colab-df-convert:hover {\n",
              "      background-color: #E2EBFA;\n",
              "      box-shadow: 0px 1px 2px rgba(60, 64, 67, 0.3), 0px 1px 3px 1px rgba(60, 64, 67, 0.15);\n",
              "      fill: #174EA6;\n",
              "    }\n",
              "\n",
              "    .colab-df-buttons div {\n",
              "      margin-bottom: 4px;\n",
              "    }\n",
              "\n",
              "    [theme=dark] .colab-df-convert {\n",
              "      background-color: #3B4455;\n",
              "      fill: #D2E3FC;\n",
              "    }\n",
              "\n",
              "    [theme=dark] .colab-df-convert:hover {\n",
              "      background-color: #434B5C;\n",
              "      box-shadow: 0px 1px 3px 1px rgba(0, 0, 0, 0.15);\n",
              "      filter: drop-shadow(0px 1px 2px rgba(0, 0, 0, 0.3));\n",
              "      fill: #FFFFFF;\n",
              "    }\n",
              "  </style>\n",
              "\n",
              "    <script>\n",
              "      const buttonEl =\n",
              "        document.querySelector('#df-8d2de135-b873-4f08-8b52-fac7256e0871 button.colab-df-convert');\n",
              "      buttonEl.style.display =\n",
              "        google.colab.kernel.accessAllowed ? 'block' : 'none';\n",
              "\n",
              "      async function convertToInteractive(key) {\n",
              "        const element = document.querySelector('#df-8d2de135-b873-4f08-8b52-fac7256e0871');\n",
              "        const dataTable =\n",
              "          await google.colab.kernel.invokeFunction('convertToInteractive',\n",
              "                                                    [key], {});\n",
              "        if (!dataTable) return;\n",
              "\n",
              "        const docLinkHtml = 'Like what you see? Visit the ' +\n",
              "          '<a target=\"_blank\" href=https://colab.research.google.com/notebooks/data_table.ipynb>data table notebook</a>'\n",
              "          + ' to learn more about interactive tables.';\n",
              "        element.innerHTML = '';\n",
              "        dataTable['output_type'] = 'display_data';\n",
              "        await google.colab.output.renderOutput(dataTable, element);\n",
              "        const docLink = document.createElement('div');\n",
              "        docLink.innerHTML = docLinkHtml;\n",
              "        element.appendChild(docLink);\n",
              "      }\n",
              "    </script>\n",
              "  </div>\n",
              "\n",
              "\n",
              "<div id=\"df-b46a47c9-5907-4b31-bd2f-774a92c6b7df\">\n",
              "  <button class=\"colab-df-quickchart\" onclick=\"quickchart('df-b46a47c9-5907-4b31-bd2f-774a92c6b7df')\"\n",
              "            title=\"Suggest charts\"\n",
              "            style=\"display:none;\">\n",
              "\n",
              "<svg xmlns=\"http://www.w3.org/2000/svg\" height=\"24px\"viewBox=\"0 0 24 24\"\n",
              "     width=\"24px\">\n",
              "    <g>\n",
              "        <path d=\"M19 3H5c-1.1 0-2 .9-2 2v14c0 1.1.9 2 2 2h14c1.1 0 2-.9 2-2V5c0-1.1-.9-2-2-2zM9 17H7v-7h2v7zm4 0h-2V7h2v10zm4 0h-2v-4h2v4z\"/>\n",
              "    </g>\n",
              "</svg>\n",
              "  </button>\n",
              "\n",
              "<style>\n",
              "  .colab-df-quickchart {\n",
              "      --bg-color: #E8F0FE;\n",
              "      --fill-color: #1967D2;\n",
              "      --hover-bg-color: #E2EBFA;\n",
              "      --hover-fill-color: #174EA6;\n",
              "      --disabled-fill-color: #AAA;\n",
              "      --disabled-bg-color: #DDD;\n",
              "  }\n",
              "\n",
              "  [theme=dark] .colab-df-quickchart {\n",
              "      --bg-color: #3B4455;\n",
              "      --fill-color: #D2E3FC;\n",
              "      --hover-bg-color: #434B5C;\n",
              "      --hover-fill-color: #FFFFFF;\n",
              "      --disabled-bg-color: #3B4455;\n",
              "      --disabled-fill-color: #666;\n",
              "  }\n",
              "\n",
              "  .colab-df-quickchart {\n",
              "    background-color: var(--bg-color);\n",
              "    border: none;\n",
              "    border-radius: 50%;\n",
              "    cursor: pointer;\n",
              "    display: none;\n",
              "    fill: var(--fill-color);\n",
              "    height: 32px;\n",
              "    padding: 0;\n",
              "    width: 32px;\n",
              "  }\n",
              "\n",
              "  .colab-df-quickchart:hover {\n",
              "    background-color: var(--hover-bg-color);\n",
              "    box-shadow: 0 1px 2px rgba(60, 64, 67, 0.3), 0 1px 3px 1px rgba(60, 64, 67, 0.15);\n",
              "    fill: var(--button-hover-fill-color);\n",
              "  }\n",
              "\n",
              "  .colab-df-quickchart-complete:disabled,\n",
              "  .colab-df-quickchart-complete:disabled:hover {\n",
              "    background-color: var(--disabled-bg-color);\n",
              "    fill: var(--disabled-fill-color);\n",
              "    box-shadow: none;\n",
              "  }\n",
              "\n",
              "  .colab-df-spinner {\n",
              "    border: 2px solid var(--fill-color);\n",
              "    border-color: transparent;\n",
              "    border-bottom-color: var(--fill-color);\n",
              "    animation:\n",
              "      spin 1s steps(1) infinite;\n",
              "  }\n",
              "\n",
              "  @keyframes spin {\n",
              "    0% {\n",
              "      border-color: transparent;\n",
              "      border-bottom-color: var(--fill-color);\n",
              "      border-left-color: var(--fill-color);\n",
              "    }\n",
              "    20% {\n",
              "      border-color: transparent;\n",
              "      border-left-color: var(--fill-color);\n",
              "      border-top-color: var(--fill-color);\n",
              "    }\n",
              "    30% {\n",
              "      border-color: transparent;\n",
              "      border-left-color: var(--fill-color);\n",
              "      border-top-color: var(--fill-color);\n",
              "      border-right-color: var(--fill-color);\n",
              "    }\n",
              "    40% {\n",
              "      border-color: transparent;\n",
              "      border-right-color: var(--fill-color);\n",
              "      border-top-color: var(--fill-color);\n",
              "    }\n",
              "    60% {\n",
              "      border-color: transparent;\n",
              "      border-right-color: var(--fill-color);\n",
              "    }\n",
              "    80% {\n",
              "      border-color: transparent;\n",
              "      border-right-color: var(--fill-color);\n",
              "      border-bottom-color: var(--fill-color);\n",
              "    }\n",
              "    90% {\n",
              "      border-color: transparent;\n",
              "      border-bottom-color: var(--fill-color);\n",
              "    }\n",
              "  }\n",
              "</style>\n",
              "\n",
              "  <script>\n",
              "    async function quickchart(key) {\n",
              "      const quickchartButtonEl =\n",
              "        document.querySelector('#' + key + ' button');\n",
              "      quickchartButtonEl.disabled = true;  // To prevent multiple clicks.\n",
              "      quickchartButtonEl.classList.add('colab-df-spinner');\n",
              "      try {\n",
              "        const charts = await google.colab.kernel.invokeFunction(\n",
              "            'suggestCharts', [key], {});\n",
              "      } catch (error) {\n",
              "        console.error('Error during call to suggestCharts:', error);\n",
              "      }\n",
              "      quickchartButtonEl.classList.remove('colab-df-spinner');\n",
              "      quickchartButtonEl.classList.add('colab-df-quickchart-complete');\n",
              "    }\n",
              "    (() => {\n",
              "      let quickchartButtonEl =\n",
              "        document.querySelector('#df-b46a47c9-5907-4b31-bd2f-774a92c6b7df button');\n",
              "      quickchartButtonEl.style.display =\n",
              "        google.colab.kernel.accessAllowed ? 'block' : 'none';\n",
              "    })();\n",
              "  </script>\n",
              "</div>\n",
              "\n",
              "    </div>\n",
              "  </div>\n"
            ],
            "application/vnd.google.colaboratory.intrinsic+json": {
              "type": "dataframe",
              "variable_name": "train_df",
              "summary": "{\n  \"name\": \"train_df\",\n  \"rows\": 7613,\n  \"fields\": [\n    {\n      \"column\": \"id\",\n      \"properties\": {\n        \"dtype\": \"number\",\n        \"std\": 3137,\n        \"min\": 1,\n        \"max\": 10873,\n        \"num_unique_values\": 7613,\n        \"samples\": [\n          3796,\n          3185,\n          7769\n        ],\n        \"semantic_type\": \"\",\n        \"description\": \"\"\n      }\n    },\n    {\n      \"column\": \"keyword\",\n      \"properties\": {\n        \"dtype\": \"category\",\n        \"num_unique_values\": 221,\n        \"samples\": [\n          \"injury\",\n          \"nuclear%20reactor\",\n          \"engulfed\"\n        ],\n        \"semantic_type\": \"\",\n        \"description\": \"\"\n      }\n    },\n    {\n      \"column\": \"location\",\n      \"properties\": {\n        \"dtype\": \"category\",\n        \"num_unique_values\": 3341,\n        \"samples\": [\n          \"Oklahoma\",\n          \"Starling City\",\n          \"Trinidad and Tobago\"\n        ],\n        \"semantic_type\": \"\",\n        \"description\": \"\"\n      }\n    },\n    {\n      \"column\": \"text\",\n      \"properties\": {\n        \"dtype\": \"string\",\n        \"num_unique_values\": 7503,\n        \"samples\": [\n          \"Three Homes Demolished in Unrecognized Arab Village - International Middle East Media Center http://t.co/ik8m4Yi9T4\",\n          \"Reid Lake fire prompts campground evacuation order http://t.co/jBODKM6rBU\",\n          \"FAAN orders evacuation of abandoned aircraft at MMA http://t.co/dEvYbnVXGQ via @todayng\"\n        ],\n        \"semantic_type\": \"\",\n        \"description\": \"\"\n      }\n    },\n    {\n      \"column\": \"target\",\n      \"properties\": {\n        \"dtype\": \"number\",\n        \"std\": 0,\n        \"min\": 0,\n        \"max\": 1,\n        \"num_unique_values\": 2,\n        \"samples\": [\n          0,\n          1\n        ],\n        \"semantic_type\": \"\",\n        \"description\": \"\"\n      }\n    }\n  ]\n}"
            }
          },
          "metadata": {},
          "execution_count": 4
        }
      ]
    },
    {
      "cell_type": "code",
      "source": [
        "train_df_shuffled = train_df.sample(frac=1, random_state=42)\n",
        "train_df_shuffled.head()"
      ],
      "metadata": {
        "colab": {
          "base_uri": "https://localhost:8080/",
          "height": 206
        },
        "id": "6nkdnbaXMc3u",
        "outputId": "3bd5644e-fcc6-40fe-b815-e6ee5b71554a"
      },
      "execution_count": 5,
      "outputs": [
        {
          "output_type": "execute_result",
          "data": {
            "text/plain": [
              "        id      keyword               location  \\\n",
              "2644  3796  destruction                    NaN   \n",
              "2227  3185       deluge                    NaN   \n",
              "5448  7769       police                     UK   \n",
              "132    191   aftershock                    NaN   \n",
              "6845  9810       trauma  Montgomery County, MD   \n",
              "\n",
              "                                                   text  target  \n",
              "2644  So you have a new weapon that can cause un-ima...       1  \n",
              "2227  The f$&amp;@ing things I do for #GISHWHES Just...       0  \n",
              "5448  DT @georgegalloway: RT @Galloway4Mayor: ÛÏThe...       1  \n",
              "132   Aftershock back to school kick off was great. ...       0  \n",
              "6845  in response to trauma Children of Addicts deve...       0  "
            ],
            "text/html": [
              "\n",
              "  <div id=\"df-f39fd5bb-2558-4474-8b2a-ebf0adf9e338\" class=\"colab-df-container\">\n",
              "    <div>\n",
              "<style scoped>\n",
              "    .dataframe tbody tr th:only-of-type {\n",
              "        vertical-align: middle;\n",
              "    }\n",
              "\n",
              "    .dataframe tbody tr th {\n",
              "        vertical-align: top;\n",
              "    }\n",
              "\n",
              "    .dataframe thead th {\n",
              "        text-align: right;\n",
              "    }\n",
              "</style>\n",
              "<table border=\"1\" class=\"dataframe\">\n",
              "  <thead>\n",
              "    <tr style=\"text-align: right;\">\n",
              "      <th></th>\n",
              "      <th>id</th>\n",
              "      <th>keyword</th>\n",
              "      <th>location</th>\n",
              "      <th>text</th>\n",
              "      <th>target</th>\n",
              "    </tr>\n",
              "  </thead>\n",
              "  <tbody>\n",
              "    <tr>\n",
              "      <th>2644</th>\n",
              "      <td>3796</td>\n",
              "      <td>destruction</td>\n",
              "      <td>NaN</td>\n",
              "      <td>So you have a new weapon that can cause un-ima...</td>\n",
              "      <td>1</td>\n",
              "    </tr>\n",
              "    <tr>\n",
              "      <th>2227</th>\n",
              "      <td>3185</td>\n",
              "      <td>deluge</td>\n",
              "      <td>NaN</td>\n",
              "      <td>The f$&amp;amp;@ing things I do for #GISHWHES Just...</td>\n",
              "      <td>0</td>\n",
              "    </tr>\n",
              "    <tr>\n",
              "      <th>5448</th>\n",
              "      <td>7769</td>\n",
              "      <td>police</td>\n",
              "      <td>UK</td>\n",
              "      <td>DT @georgegalloway: RT @Galloway4Mayor: ÛÏThe...</td>\n",
              "      <td>1</td>\n",
              "    </tr>\n",
              "    <tr>\n",
              "      <th>132</th>\n",
              "      <td>191</td>\n",
              "      <td>aftershock</td>\n",
              "      <td>NaN</td>\n",
              "      <td>Aftershock back to school kick off was great. ...</td>\n",
              "      <td>0</td>\n",
              "    </tr>\n",
              "    <tr>\n",
              "      <th>6845</th>\n",
              "      <td>9810</td>\n",
              "      <td>trauma</td>\n",
              "      <td>Montgomery County, MD</td>\n",
              "      <td>in response to trauma Children of Addicts deve...</td>\n",
              "      <td>0</td>\n",
              "    </tr>\n",
              "  </tbody>\n",
              "</table>\n",
              "</div>\n",
              "    <div class=\"colab-df-buttons\">\n",
              "\n",
              "  <div class=\"colab-df-container\">\n",
              "    <button class=\"colab-df-convert\" onclick=\"convertToInteractive('df-f39fd5bb-2558-4474-8b2a-ebf0adf9e338')\"\n",
              "            title=\"Convert this dataframe to an interactive table.\"\n",
              "            style=\"display:none;\">\n",
              "\n",
              "  <svg xmlns=\"http://www.w3.org/2000/svg\" height=\"24px\" viewBox=\"0 -960 960 960\">\n",
              "    <path d=\"M120-120v-720h720v720H120Zm60-500h600v-160H180v160Zm220 220h160v-160H400v160Zm0 220h160v-160H400v160ZM180-400h160v-160H180v160Zm440 0h160v-160H620v160ZM180-180h160v-160H180v160Zm440 0h160v-160H620v160Z\"/>\n",
              "  </svg>\n",
              "    </button>\n",
              "\n",
              "  <style>\n",
              "    .colab-df-container {\n",
              "      display:flex;\n",
              "      gap: 12px;\n",
              "    }\n",
              "\n",
              "    .colab-df-convert {\n",
              "      background-color: #E8F0FE;\n",
              "      border: none;\n",
              "      border-radius: 50%;\n",
              "      cursor: pointer;\n",
              "      display: none;\n",
              "      fill: #1967D2;\n",
              "      height: 32px;\n",
              "      padding: 0 0 0 0;\n",
              "      width: 32px;\n",
              "    }\n",
              "\n",
              "    .colab-df-convert:hover {\n",
              "      background-color: #E2EBFA;\n",
              "      box-shadow: 0px 1px 2px rgba(60, 64, 67, 0.3), 0px 1px 3px 1px rgba(60, 64, 67, 0.15);\n",
              "      fill: #174EA6;\n",
              "    }\n",
              "\n",
              "    .colab-df-buttons div {\n",
              "      margin-bottom: 4px;\n",
              "    }\n",
              "\n",
              "    [theme=dark] .colab-df-convert {\n",
              "      background-color: #3B4455;\n",
              "      fill: #D2E3FC;\n",
              "    }\n",
              "\n",
              "    [theme=dark] .colab-df-convert:hover {\n",
              "      background-color: #434B5C;\n",
              "      box-shadow: 0px 1px 3px 1px rgba(0, 0, 0, 0.15);\n",
              "      filter: drop-shadow(0px 1px 2px rgba(0, 0, 0, 0.3));\n",
              "      fill: #FFFFFF;\n",
              "    }\n",
              "  </style>\n",
              "\n",
              "    <script>\n",
              "      const buttonEl =\n",
              "        document.querySelector('#df-f39fd5bb-2558-4474-8b2a-ebf0adf9e338 button.colab-df-convert');\n",
              "      buttonEl.style.display =\n",
              "        google.colab.kernel.accessAllowed ? 'block' : 'none';\n",
              "\n",
              "      async function convertToInteractive(key) {\n",
              "        const element = document.querySelector('#df-f39fd5bb-2558-4474-8b2a-ebf0adf9e338');\n",
              "        const dataTable =\n",
              "          await google.colab.kernel.invokeFunction('convertToInteractive',\n",
              "                                                    [key], {});\n",
              "        if (!dataTable) return;\n",
              "\n",
              "        const docLinkHtml = 'Like what you see? Visit the ' +\n",
              "          '<a target=\"_blank\" href=https://colab.research.google.com/notebooks/data_table.ipynb>data table notebook</a>'\n",
              "          + ' to learn more about interactive tables.';\n",
              "        element.innerHTML = '';\n",
              "        dataTable['output_type'] = 'display_data';\n",
              "        await google.colab.output.renderOutput(dataTable, element);\n",
              "        const docLink = document.createElement('div');\n",
              "        docLink.innerHTML = docLinkHtml;\n",
              "        element.appendChild(docLink);\n",
              "      }\n",
              "    </script>\n",
              "  </div>\n",
              "\n",
              "\n",
              "<div id=\"df-6beedfdb-0ce9-48d7-b20c-986e54f06cb3\">\n",
              "  <button class=\"colab-df-quickchart\" onclick=\"quickchart('df-6beedfdb-0ce9-48d7-b20c-986e54f06cb3')\"\n",
              "            title=\"Suggest charts\"\n",
              "            style=\"display:none;\">\n",
              "\n",
              "<svg xmlns=\"http://www.w3.org/2000/svg\" height=\"24px\"viewBox=\"0 0 24 24\"\n",
              "     width=\"24px\">\n",
              "    <g>\n",
              "        <path d=\"M19 3H5c-1.1 0-2 .9-2 2v14c0 1.1.9 2 2 2h14c1.1 0 2-.9 2-2V5c0-1.1-.9-2-2-2zM9 17H7v-7h2v7zm4 0h-2V7h2v10zm4 0h-2v-4h2v4z\"/>\n",
              "    </g>\n",
              "</svg>\n",
              "  </button>\n",
              "\n",
              "<style>\n",
              "  .colab-df-quickchart {\n",
              "      --bg-color: #E8F0FE;\n",
              "      --fill-color: #1967D2;\n",
              "      --hover-bg-color: #E2EBFA;\n",
              "      --hover-fill-color: #174EA6;\n",
              "      --disabled-fill-color: #AAA;\n",
              "      --disabled-bg-color: #DDD;\n",
              "  }\n",
              "\n",
              "  [theme=dark] .colab-df-quickchart {\n",
              "      --bg-color: #3B4455;\n",
              "      --fill-color: #D2E3FC;\n",
              "      --hover-bg-color: #434B5C;\n",
              "      --hover-fill-color: #FFFFFF;\n",
              "      --disabled-bg-color: #3B4455;\n",
              "      --disabled-fill-color: #666;\n",
              "  }\n",
              "\n",
              "  .colab-df-quickchart {\n",
              "    background-color: var(--bg-color);\n",
              "    border: none;\n",
              "    border-radius: 50%;\n",
              "    cursor: pointer;\n",
              "    display: none;\n",
              "    fill: var(--fill-color);\n",
              "    height: 32px;\n",
              "    padding: 0;\n",
              "    width: 32px;\n",
              "  }\n",
              "\n",
              "  .colab-df-quickchart:hover {\n",
              "    background-color: var(--hover-bg-color);\n",
              "    box-shadow: 0 1px 2px rgba(60, 64, 67, 0.3), 0 1px 3px 1px rgba(60, 64, 67, 0.15);\n",
              "    fill: var(--button-hover-fill-color);\n",
              "  }\n",
              "\n",
              "  .colab-df-quickchart-complete:disabled,\n",
              "  .colab-df-quickchart-complete:disabled:hover {\n",
              "    background-color: var(--disabled-bg-color);\n",
              "    fill: var(--disabled-fill-color);\n",
              "    box-shadow: none;\n",
              "  }\n",
              "\n",
              "  .colab-df-spinner {\n",
              "    border: 2px solid var(--fill-color);\n",
              "    border-color: transparent;\n",
              "    border-bottom-color: var(--fill-color);\n",
              "    animation:\n",
              "      spin 1s steps(1) infinite;\n",
              "  }\n",
              "\n",
              "  @keyframes spin {\n",
              "    0% {\n",
              "      border-color: transparent;\n",
              "      border-bottom-color: var(--fill-color);\n",
              "      border-left-color: var(--fill-color);\n",
              "    }\n",
              "    20% {\n",
              "      border-color: transparent;\n",
              "      border-left-color: var(--fill-color);\n",
              "      border-top-color: var(--fill-color);\n",
              "    }\n",
              "    30% {\n",
              "      border-color: transparent;\n",
              "      border-left-color: var(--fill-color);\n",
              "      border-top-color: var(--fill-color);\n",
              "      border-right-color: var(--fill-color);\n",
              "    }\n",
              "    40% {\n",
              "      border-color: transparent;\n",
              "      border-right-color: var(--fill-color);\n",
              "      border-top-color: var(--fill-color);\n",
              "    }\n",
              "    60% {\n",
              "      border-color: transparent;\n",
              "      border-right-color: var(--fill-color);\n",
              "    }\n",
              "    80% {\n",
              "      border-color: transparent;\n",
              "      border-right-color: var(--fill-color);\n",
              "      border-bottom-color: var(--fill-color);\n",
              "    }\n",
              "    90% {\n",
              "      border-color: transparent;\n",
              "      border-bottom-color: var(--fill-color);\n",
              "    }\n",
              "  }\n",
              "</style>\n",
              "\n",
              "  <script>\n",
              "    async function quickchart(key) {\n",
              "      const quickchartButtonEl =\n",
              "        document.querySelector('#' + key + ' button');\n",
              "      quickchartButtonEl.disabled = true;  // To prevent multiple clicks.\n",
              "      quickchartButtonEl.classList.add('colab-df-spinner');\n",
              "      try {\n",
              "        const charts = await google.colab.kernel.invokeFunction(\n",
              "            'suggestCharts', [key], {});\n",
              "      } catch (error) {\n",
              "        console.error('Error during call to suggestCharts:', error);\n",
              "      }\n",
              "      quickchartButtonEl.classList.remove('colab-df-spinner');\n",
              "      quickchartButtonEl.classList.add('colab-df-quickchart-complete');\n",
              "    }\n",
              "    (() => {\n",
              "      let quickchartButtonEl =\n",
              "        document.querySelector('#df-6beedfdb-0ce9-48d7-b20c-986e54f06cb3 button');\n",
              "      quickchartButtonEl.style.display =\n",
              "        google.colab.kernel.accessAllowed ? 'block' : 'none';\n",
              "    })();\n",
              "  </script>\n",
              "</div>\n",
              "\n",
              "    </div>\n",
              "  </div>\n"
            ],
            "application/vnd.google.colaboratory.intrinsic+json": {
              "type": "dataframe",
              "variable_name": "train_df_shuffled",
              "summary": "{\n  \"name\": \"train_df_shuffled\",\n  \"rows\": 7613,\n  \"fields\": [\n    {\n      \"column\": \"id\",\n      \"properties\": {\n        \"dtype\": \"number\",\n        \"std\": 3137,\n        \"min\": 1,\n        \"max\": 10873,\n        \"num_unique_values\": 7613,\n        \"samples\": [\n          7061,\n          843,\n          10603\n        ],\n        \"semantic_type\": \"\",\n        \"description\": \"\"\n      }\n    },\n    {\n      \"column\": \"keyword\",\n      \"properties\": {\n        \"dtype\": \"category\",\n        \"num_unique_values\": 221,\n        \"samples\": [\n          \"blazing\",\n          \"emergency\",\n          \"rescue\"\n        ],\n        \"semantic_type\": \"\",\n        \"description\": \"\"\n      }\n    },\n    {\n      \"column\": \"location\",\n      \"properties\": {\n        \"dtype\": \"category\",\n        \"num_unique_values\": 3341,\n        \"samples\": [\n          \"617-BTOWN-BEATDOWN\",\n          \"Newcastle Upon Tyne, England\",\n          \"Federal Capital Territory\"\n        ],\n        \"semantic_type\": \"\",\n        \"description\": \"\"\n      }\n    },\n    {\n      \"column\": \"text\",\n      \"properties\": {\n        \"dtype\": \"string\",\n        \"num_unique_values\": 7503,\n        \"samples\": [\n          \"This week first responders and DART members are participating in a four day intensive Technical Large Animal... http://t.co/tL93AOd3ER\",\n          \"My mom is watching a show about bridges breaking/falling and the people on them drowning in their cars aka one of my biggest fears ????\",\n          \"@NickLee8  i went to school in a bombed out East End of London3 families to one house no bathroom outside loo &amp; poor so whats yr point\"\n        ],\n        \"semantic_type\": \"\",\n        \"description\": \"\"\n      }\n    },\n    {\n      \"column\": \"target\",\n      \"properties\": {\n        \"dtype\": \"number\",\n        \"std\": 0,\n        \"min\": 0,\n        \"max\": 1,\n        \"num_unique_values\": 2,\n        \"samples\": [\n          0,\n          1\n        ],\n        \"semantic_type\": \"\",\n        \"description\": \"\"\n      }\n    }\n  ]\n}"
            }
          },
          "metadata": {},
          "execution_count": 5
        }
      ]
    },
    {
      "cell_type": "code",
      "source": [
        "from sklearn.model_selection import train_test_split\n",
        "train_sentences, val_sentences, train_labels, val_labels = train_test_split(train_df_shuffled[\"text\"].to_numpy(),\n",
        "                                                                            train_df_shuffled[\"target\"].to_numpy(),\n",
        "                                                                            test_size=0.2,\n",
        "                                                                            random_state=42)"
      ],
      "metadata": {
        "id": "onljeoXMMkca"
      },
      "execution_count": 6,
      "outputs": []
    },
    {
      "cell_type": "code",
      "source": [
        "from os.path import split\n",
        "import tensorflow as tf\n",
        "\n",
        "from tensorflow.keras.layers import TextVectorization\n",
        "\n",
        "\n",
        "text_vectorizer = TextVectorization(max_tokens=10000,\n",
        "                                    standardize = \"lower_and_strip_punctuation\",\n",
        "                                    split = \"whitespace\",\n",
        "                                    ngrams = None,\n",
        "                                    output_mode = \"int\",\n",
        "                                    output_sequence_length = None,\n",
        "                                    pad_to_max_tokens=True\n",
        "                                    )"
      ],
      "metadata": {
        "id": "ysvCcCG5Np-K"
      },
      "execution_count": 7,
      "outputs": []
    },
    {
      "cell_type": "code",
      "source": [
        "text_vectorizer.adapt(train_sentences)"
      ],
      "metadata": {
        "id": "alMhGGUJVWD3"
      },
      "execution_count": 8,
      "outputs": []
    },
    {
      "cell_type": "code",
      "source": [
        "sample_sentence = \"DJ Sanghvi College of Engineering\"\n",
        "sample_for_embedding = text_vectorizer([sample_sentence])"
      ],
      "metadata": {
        "id": "Vs7n1ETO3P6U"
      },
      "execution_count": 9,
      "outputs": []
    },
    {
      "cell_type": "code",
      "source": [
        "words_number = text_vectorizer.get_vocabulary()\n",
        "words_number[:10]"
      ],
      "metadata": {
        "colab": {
          "base_uri": "https://localhost:8080/"
        },
        "id": "yE90wy1AH4Wg",
        "outputId": "b57beaf8-5a5f-4282-852a-4976ffede7cf"
      },
      "execution_count": 10,
      "outputs": [
        {
          "output_type": "execute_result",
          "data": {
            "text/plain": [
              "['', '[UNK]', 'the', 'a', 'in', 'to', 'of', 'and', 'i', 'is']"
            ]
          },
          "metadata": {},
          "execution_count": 10
        }
      ]
    },
    {
      "cell_type": "markdown",
      "source": [
        "#**Embedding**"
      ],
      "metadata": {
        "id": "9wAyu7NOIKjM"
      }
    },
    {
      "cell_type": "code",
      "source": [
        "import tensorflow as tf\n",
        "max_length = 15\n",
        "Embedding = tf.keras.layers.Embedding(input_dim = 10000,\n",
        "                                              output_dim = 128,\n",
        "                                              input_length = max_length)"
      ],
      "metadata": {
        "id": "1sNZykpCKVqi",
        "colab": {
          "base_uri": "https://localhost:8080/"
        },
        "outputId": "02f1a0ea-700d-472e-d24b-19ef5db562df"
      },
      "execution_count": 12,
      "outputs": [
        {
          "output_type": "stream",
          "name": "stderr",
          "text": [
            "/usr/local/lib/python3.10/dist-packages/keras/src/layers/core/embedding.py:90: UserWarning: Argument `input_length` is deprecated. Just remove it.\n",
            "  warnings.warn(\n"
          ]
        }
      ]
    },
    {
      "cell_type": "code",
      "source": [
        "embed = Embedding(sample_for_embedding)\n",
        "embed"
      ],
      "metadata": {
        "id": "jglIKgZ8K7F-",
        "colab": {
          "base_uri": "https://localhost:8080/"
        },
        "outputId": "51da3ca8-8c46-459e-d204-06dd53d83339"
      },
      "execution_count": 13,
      "outputs": [
        {
          "output_type": "execute_result",
          "data": {
            "text/plain": [
              "<tf.Tensor: shape=(1, 5, 128), dtype=float32, numpy=\n",
              "array([[[ 4.92846258e-02,  4.07630838e-02,  3.21744420e-02,\n",
              "          3.90107557e-03, -4.05243151e-02, -1.05831251e-02,\n",
              "          3.98442782e-02, -5.00509888e-03,  4.56028841e-02,\n",
              "          2.75892951e-02, -3.13189626e-02,  1.93601586e-02,\n",
              "         -2.58252770e-03, -2.71005034e-02,  1.38344653e-02,\n",
              "          3.00908089e-03, -3.65904681e-02, -3.64785679e-02,\n",
              "         -7.08987564e-03,  5.56762144e-03, -1.15507357e-02,\n",
              "          2.15859078e-02,  1.61806606e-02, -3.31191421e-02,\n",
              "         -2.02525854e-02,  3.00284661e-02,  3.06960195e-03,\n",
              "          3.22048925e-02,  2.29637660e-02, -1.43276937e-02,\n",
              "         -3.17591429e-02, -4.23737653e-02,  4.99755479e-02,\n",
              "         -1.07224211e-02,  3.22710983e-02,  1.06729567e-04,\n",
              "         -4.90283743e-02, -3.86039391e-02, -1.24110952e-02,\n",
              "         -4.36005108e-02,  3.92577760e-02, -4.09602746e-02,\n",
              "          1.04842782e-02, -3.81175876e-02,  5.03589958e-03,\n",
              "         -3.94977629e-04,  1.44733526e-02, -2.47843396e-02,\n",
              "         -4.31448221e-03,  1.19380243e-02, -4.19890992e-02,\n",
              "          1.47397779e-02,  1.57238953e-02, -3.29210311e-02,\n",
              "          4.64274548e-02, -1.94863807e-02,  3.47867869e-02,\n",
              "          3.15666236e-02,  1.40284337e-02, -1.65471211e-02,\n",
              "          1.35521926e-02,  4.42175753e-02,  1.06136911e-02,\n",
              "         -8.99695233e-03,  3.31480391e-02,  4.47957627e-02,\n",
              "         -9.34158638e-03, -3.02341469e-02, -4.40549962e-02,\n",
              "          1.55785792e-02, -4.07571718e-03, -3.89180295e-02,\n",
              "          1.43031590e-02,  4.19341587e-02, -1.02598071e-02,\n",
              "          1.94453262e-02, -3.05491928e-02, -2.62317192e-02,\n",
              "          1.42138712e-02, -3.48616354e-02,  4.58378233e-02,\n",
              "          4.72592600e-02,  2.18609720e-03, -2.29949597e-02,\n",
              "          4.76338305e-02,  4.18455489e-02,  9.20902565e-03,\n",
              "          2.11209543e-02,  1.63931735e-02,  3.57627161e-02,\n",
              "         -2.89632920e-02,  3.58237736e-02,  1.54498853e-02,\n",
              "         -4.34385203e-02, -3.74941342e-02,  4.14282084e-03,\n",
              "         -4.94539849e-02,  3.03873904e-02,  3.74263041e-02,\n",
              "          1.72290243e-02,  1.14508048e-02,  4.96223681e-02,\n",
              "          5.48527390e-03,  1.35208853e-02, -2.12306026e-02,\n",
              "         -3.51084694e-02, -2.65203957e-02,  3.20231803e-02,\n",
              "         -2.43755225e-02,  1.12296268e-03, -1.10036135e-02,\n",
              "          1.57447346e-02,  3.08948793e-02, -3.45968083e-03,\n",
              "          2.16664113e-02,  4.48085181e-02,  1.83564425e-03,\n",
              "          1.73146017e-02,  1.48413219e-02,  7.75070116e-03,\n",
              "         -4.12801728e-02,  3.10341381e-02,  4.70435880e-02,\n",
              "         -4.79322188e-02, -2.34177113e-02, -4.89055626e-02,\n",
              "         -2.88822055e-02, -3.98740992e-02],\n",
              "        [ 2.32142843e-02,  9.96135175e-04, -1.87167637e-02,\n",
              "          3.84161137e-02,  3.32886912e-02,  5.50093502e-03,\n",
              "         -1.66513212e-02, -2.16764342e-02,  3.14594544e-02,\n",
              "          1.69491284e-02,  3.46182026e-02, -2.83162948e-02,\n",
              "         -2.30862740e-02,  2.92338617e-02,  1.51286237e-02,\n",
              "          3.81029584e-02,  6.81090355e-03, -1.76402330e-02,\n",
              "          4.59004194e-04, -7.06683472e-03, -8.55015591e-03,\n",
              "         -4.58285213e-02, -2.22861767e-02,  7.47080892e-03,\n",
              "          4.09587063e-02, -4.68916558e-02, -2.74955519e-02,\n",
              "         -6.61443919e-04,  2.66859271e-02, -3.84985209e-02,\n",
              "          2.97861956e-02, -1.89775359e-02, -8.94936174e-03,\n",
              "         -3.94766554e-02, -3.41469049e-03, -3.85978818e-02,\n",
              "         -8.71665403e-03, -3.55752595e-02,  1.86181329e-02,\n",
              "         -2.21430901e-02, -3.53224166e-02,  4.60183509e-02,\n",
              "         -3.70425098e-02,  2.94812806e-02,  1.35433339e-02,\n",
              "         -2.21045967e-02, -4.04968970e-02, -3.70593667e-02,\n",
              "          2.83962600e-02, -1.55733824e-02, -2.28153821e-02,\n",
              "         -4.02875170e-02, -1.92502979e-02,  2.11745985e-02,\n",
              "         -8.89202207e-03,  2.01025121e-02, -2.81257518e-02,\n",
              "          3.44199874e-02,  3.45991515e-02,  2.33764909e-02,\n",
              "         -1.38726607e-02,  3.11874412e-02,  3.90285365e-02,\n",
              "         -2.79342290e-02, -2.30092295e-02,  4.36934270e-02,\n",
              "          4.92458232e-02,  1.49053968e-02, -3.24708000e-02,\n",
              "         -4.07770760e-02, -8.73714685e-03,  6.68688864e-03,\n",
              "         -4.40806150e-02, -1.93217881e-02,  3.45475562e-02,\n",
              "          2.09727399e-02,  4.92171384e-02,  9.25693661e-03,\n",
              "         -2.28751302e-02, -4.98466976e-02,  3.22957970e-02,\n",
              "         -6.88844919e-03, -4.06962857e-02,  3.33657153e-02,\n",
              "          2.51098014e-02, -3.57676521e-02, -5.11164591e-03,\n",
              "          1.32838823e-02, -1.85506456e-02, -3.66757512e-02,\n",
              "          3.82483713e-02, -9.38786194e-03,  3.99370231e-02,\n",
              "          4.79905345e-02,  1.87362917e-02, -1.15125664e-02,\n",
              "          5.23927063e-03, -3.48739140e-02,  1.89394467e-02,\n",
              "          7.00885057e-03,  2.01802962e-02,  4.96766716e-03,\n",
              "         -3.93855572e-02,  2.94202827e-02,  3.38828005e-02,\n",
              "         -2.57095098e-02, -4.13140655e-02,  2.75189169e-02,\n",
              "         -1.29950270e-02, -3.85457501e-02, -3.42088565e-02,\n",
              "          1.54207610e-02, -3.53334658e-02, -1.23845339e-02,\n",
              "          2.67779715e-02, -2.92336475e-02, -7.18045235e-03,\n",
              "          4.32436503e-02,  4.21418436e-02, -1.12439618e-02,\n",
              "          1.40994675e-02, -4.13276926e-02,  1.76469721e-02,\n",
              "         -4.27230857e-02,  1.64690055e-02,  3.30852345e-03,\n",
              "         -2.39310507e-02, -1.38261802e-02],\n",
              "        [ 2.83693410e-02,  2.33054645e-02,  1.76376961e-02,\n",
              "          3.52955200e-02, -4.47782055e-02,  2.61046924e-02,\n",
              "          2.48942524e-03,  3.78111489e-02, -3.96041051e-02,\n",
              "         -4.16834727e-02, -4.43002693e-02, -8.88593122e-03,\n",
              "         -3.00103426e-02, -3.88537273e-02, -4.66005579e-02,\n",
              "         -4.55740094e-02,  2.79148109e-02,  4.72590439e-02,\n",
              "         -4.05183919e-02,  4.29359823e-03,  4.95225824e-02,\n",
              "          4.74917889e-03, -1.03783011e-02,  4.32819016e-02,\n",
              "          2.50378586e-02, -2.45203264e-02,  1.43876113e-02,\n",
              "         -1.10379346e-02,  2.89518721e-02, -2.99568530e-02,\n",
              "         -4.18160185e-02, -1.64136887e-02, -4.24561165e-02,\n",
              "          7.81400129e-03,  4.06815857e-03,  4.59835194e-02,\n",
              "         -3.88704315e-02,  4.49199118e-02, -4.48637977e-02,\n",
              "         -2.41052862e-02,  1.78680159e-02, -4.34642918e-02,\n",
              "         -3.86662409e-03,  2.30434574e-02, -2.11662296e-02,\n",
              "         -2.84313094e-02,  1.07374080e-02,  3.69851477e-02,\n",
              "         -2.08051689e-02,  4.15212624e-02,  2.00905688e-02,\n",
              "          3.49691026e-02, -4.16078344e-02, -3.49301696e-02,\n",
              "          1.23481266e-02, -1.46001466e-02,  4.24572267e-02,\n",
              "          3.21380831e-02, -7.68867880e-03, -7.21555948e-03,\n",
              "         -2.58326530e-02,  1.01369247e-02,  4.61455099e-02,\n",
              "          1.38354935e-02, -4.84705567e-02,  3.06335352e-02,\n",
              "         -1.54531971e-02, -4.06692624e-02, -6.14435598e-03,\n",
              "          3.19331773e-02,  1.11748353e-02,  1.54084004e-02,\n",
              "         -3.94179709e-02,  4.43334319e-02,  3.87083776e-02,\n",
              "         -4.92087007e-02, -9.45192575e-03,  5.59736043e-04,\n",
              "          1.90693624e-02,  3.89184691e-02,  1.88684464e-03,\n",
              "          2.86780857e-02,  4.75375541e-02, -3.27147469e-02,\n",
              "          1.17242821e-02,  7.88645819e-03, -1.37823224e-02,\n",
              "          4.02777456e-02, -3.85806710e-03,  3.34376097e-03,\n",
              "          1.33043267e-02, -2.26151478e-02,  2.54005194e-03,\n",
              "          4.43514921e-02,  1.61405094e-02, -7.34541565e-03,\n",
              "         -2.17522383e-02, -2.87982952e-02,  2.20284611e-03,\n",
              "         -2.65365131e-02, -2.06323266e-02,  1.23820417e-02,\n",
              "          4.70102951e-03, -2.30828412e-02,  2.40349285e-02,\n",
              "         -1.86643973e-02, -4.64032963e-03,  4.92408313e-02,\n",
              "         -4.69222926e-02, -9.40583646e-04, -2.56764889e-03,\n",
              "          3.93260382e-02, -2.09819674e-02, -1.03453882e-02,\n",
              "         -9.88619402e-03, -2.39234325e-02, -3.04884072e-02,\n",
              "         -8.64207745e-04, -4.69283126e-02,  3.72831561e-02,\n",
              "         -7.27176666e-06, -2.45146155e-02,  2.77350806e-02,\n",
              "          2.83119828e-03,  2.54612081e-02,  3.28043438e-02,\n",
              "          2.48340853e-02,  3.26538123e-02],\n",
              "        [ 1.18523352e-02, -4.50535901e-02,  3.22590582e-02,\n",
              "         -4.68852520e-02, -4.48365919e-02, -6.33720309e-03,\n",
              "         -4.53425907e-02,  3.07503380e-02,  2.00928710e-02,\n",
              "         -2.00412869e-02, -3.56385857e-03, -2.10762024e-03,\n",
              "         -1.97377689e-02, -4.00077701e-02, -3.12773213e-02,\n",
              "          2.38130800e-02,  4.50635068e-02,  4.84541766e-02,\n",
              "         -1.68421380e-02,  3.23149450e-02,  3.68384272e-03,\n",
              "         -3.78663652e-02,  4.20089029e-02,  4.93692793e-02,\n",
              "         -1.27756484e-02,  3.60941179e-02, -4.97702509e-03,\n",
              "         -4.83114645e-03,  2.42638849e-02, -2.03875657e-02,\n",
              "          3.47850062e-02,  3.25064696e-02, -2.40706932e-02,\n",
              "         -1.86796673e-02, -4.52840216e-02,  1.92678235e-02,\n",
              "          9.06386226e-03,  1.79006122e-02, -1.18631013e-02,\n",
              "         -1.00893266e-02,  4.90954779e-02,  9.01720673e-03,\n",
              "          9.31714848e-03,  6.96160644e-03,  3.02321352e-02,\n",
              "          9.09221172e-03, -2.10691094e-02, -4.37289961e-02,\n",
              "         -2.97411215e-02,  1.19155645e-03, -4.91256490e-02,\n",
              "          1.00680441e-03, -2.95093413e-02, -2.12241411e-02,\n",
              "          4.13253568e-02,  3.66393439e-02, -1.30760670e-02,\n",
              "          1.91787221e-02, -4.90971319e-02,  2.02259533e-02,\n",
              "          2.65283845e-02, -3.37716490e-02,  4.77774628e-02,\n",
              "          1.91086866e-02, -4.57525253e-03, -4.27782051e-02,\n",
              "          3.74707691e-02,  5.18928841e-03,  4.58459593e-02,\n",
              "         -3.61925587e-02,  4.66881283e-02, -4.74235527e-02,\n",
              "         -7.56822526e-04, -1.61082149e-02,  2.84411758e-03,\n",
              "          4.93865088e-03,  3.02785747e-02, -3.94271240e-02,\n",
              "          3.32276337e-02,  2.62872837e-02,  3.45802307e-03,\n",
              "         -1.28513202e-02,  1.54518224e-02, -3.95946987e-02,\n",
              "         -8.06647539e-03,  2.19092108e-02, -2.84545422e-02,\n",
              "          4.29844297e-02, -1.49521455e-02, -2.55690701e-02,\n",
              "          4.87656035e-02, -2.13439707e-02, -2.83827670e-02,\n",
              "          4.18346636e-02, -2.09116470e-02,  2.77086236e-02,\n",
              "          4.88178805e-03, -1.36042237e-02, -4.29942869e-02,\n",
              "         -4.43077087e-02,  1.63526423e-02,  3.85204442e-02,\n",
              "         -3.62545848e-02,  1.74995400e-02, -3.72637510e-02,\n",
              "         -2.84438264e-02, -3.75698321e-02,  2.14368813e-02,\n",
              "         -3.50481644e-02, -4.38184850e-02, -4.61115614e-02,\n",
              "          4.36720885e-02, -3.68105881e-02, -1.64276734e-02,\n",
              "         -1.63192041e-02,  2.18495466e-02,  2.72180922e-02,\n",
              "          3.66997384e-02,  4.45121787e-02, -4.04699929e-02,\n",
              "         -2.97280680e-02, -4.57377806e-02, -2.84494162e-02,\n",
              "          3.94462682e-02, -2.78626811e-02, -7.24785402e-03,\n",
              "         -4.12807241e-02,  1.30483396e-02],\n",
              "        [ 2.32142843e-02,  9.96135175e-04, -1.87167637e-02,\n",
              "          3.84161137e-02,  3.32886912e-02,  5.50093502e-03,\n",
              "         -1.66513212e-02, -2.16764342e-02,  3.14594544e-02,\n",
              "          1.69491284e-02,  3.46182026e-02, -2.83162948e-02,\n",
              "         -2.30862740e-02,  2.92338617e-02,  1.51286237e-02,\n",
              "          3.81029584e-02,  6.81090355e-03, -1.76402330e-02,\n",
              "          4.59004194e-04, -7.06683472e-03, -8.55015591e-03,\n",
              "         -4.58285213e-02, -2.22861767e-02,  7.47080892e-03,\n",
              "          4.09587063e-02, -4.68916558e-02, -2.74955519e-02,\n",
              "         -6.61443919e-04,  2.66859271e-02, -3.84985209e-02,\n",
              "          2.97861956e-02, -1.89775359e-02, -8.94936174e-03,\n",
              "         -3.94766554e-02, -3.41469049e-03, -3.85978818e-02,\n",
              "         -8.71665403e-03, -3.55752595e-02,  1.86181329e-02,\n",
              "         -2.21430901e-02, -3.53224166e-02,  4.60183509e-02,\n",
              "         -3.70425098e-02,  2.94812806e-02,  1.35433339e-02,\n",
              "         -2.21045967e-02, -4.04968970e-02, -3.70593667e-02,\n",
              "          2.83962600e-02, -1.55733824e-02, -2.28153821e-02,\n",
              "         -4.02875170e-02, -1.92502979e-02,  2.11745985e-02,\n",
              "         -8.89202207e-03,  2.01025121e-02, -2.81257518e-02,\n",
              "          3.44199874e-02,  3.45991515e-02,  2.33764909e-02,\n",
              "         -1.38726607e-02,  3.11874412e-02,  3.90285365e-02,\n",
              "         -2.79342290e-02, -2.30092295e-02,  4.36934270e-02,\n",
              "          4.92458232e-02,  1.49053968e-02, -3.24708000e-02,\n",
              "         -4.07770760e-02, -8.73714685e-03,  6.68688864e-03,\n",
              "         -4.40806150e-02, -1.93217881e-02,  3.45475562e-02,\n",
              "          2.09727399e-02,  4.92171384e-02,  9.25693661e-03,\n",
              "         -2.28751302e-02, -4.98466976e-02,  3.22957970e-02,\n",
              "         -6.88844919e-03, -4.06962857e-02,  3.33657153e-02,\n",
              "          2.51098014e-02, -3.57676521e-02, -5.11164591e-03,\n",
              "          1.32838823e-02, -1.85506456e-02, -3.66757512e-02,\n",
              "          3.82483713e-02, -9.38786194e-03,  3.99370231e-02,\n",
              "          4.79905345e-02,  1.87362917e-02, -1.15125664e-02,\n",
              "          5.23927063e-03, -3.48739140e-02,  1.89394467e-02,\n",
              "          7.00885057e-03,  2.01802962e-02,  4.96766716e-03,\n",
              "         -3.93855572e-02,  2.94202827e-02,  3.38828005e-02,\n",
              "         -2.57095098e-02, -4.13140655e-02,  2.75189169e-02,\n",
              "         -1.29950270e-02, -3.85457501e-02, -3.42088565e-02,\n",
              "          1.54207610e-02, -3.53334658e-02, -1.23845339e-02,\n",
              "          2.67779715e-02, -2.92336475e-02, -7.18045235e-03,\n",
              "          4.32436503e-02,  4.21418436e-02, -1.12439618e-02,\n",
              "          1.40994675e-02, -4.13276926e-02,  1.76469721e-02,\n",
              "         -4.27230857e-02,  1.64690055e-02,  3.30852345e-03,\n",
              "         -2.39310507e-02, -1.38261802e-02]]], dtype=float32)>"
            ]
          },
          "metadata": {},
          "execution_count": 13
        }
      ]
    },
    {
      "cell_type": "code",
      "source": [
        "from sklearn.feature_extraction.text import TfidfVectorizer\n",
        "from sklearn.naive_bayes import MultinomialNB\n",
        "from sklearn.pipeline import Pipeline"
      ],
      "metadata": {
        "id": "eJfUO_HyMQha"
      },
      "execution_count": 18,
      "outputs": []
    },
    {
      "source": [
        "from sklearn.model_selection import GridSearchCV\n",
        "\n",
        "Naive_model = Pipeline([('tfidf', TfidfVectorizer()), ('nb', MultinomialNB())])\n",
        "\n",
        "param_grid = {\n",
        "    'tfidf__max_df': [0.7, 0.8, 0.9,0.5],\n",
        "    'tfidf__min_df': [2, 5, 10],\n",
        "    'nb__alpha': [0.1, 1.0, 10.0,0.01]\n",
        "}\n",
        "\n",
        "grid_search = GridSearchCV(Naive_model, param_grid, cv=10, scoring='accuracy')\n",
        "\n",
        "grid_search.fit(train_sentences, train_labels)\n",
        "\n",
        "print(\"Best parameters:\", grid_search.best_params_)\n",
        "print(\"Best score:\", grid_search.best_score_)"
      ],
      "cell_type": "code",
      "metadata": {
        "colab": {
          "base_uri": "https://localhost:8080/"
        },
        "id": "NGAhVAczx-po",
        "outputId": "ae4126e3-ab8b-4cdd-80f5-9a3e6836802a"
      },
      "execution_count": 26,
      "outputs": [
        {
          "output_type": "stream",
          "name": "stdout",
          "text": [
            "Best parameters: {'nb__alpha': 1.0, 'tfidf__max_df': 0.7, 'tfidf__min_df': 5}\n",
            "Best score: 0.80311986863711\n"
          ]
        }
      ]
    },
    {
      "source": [
        "val_predictions = grid_search.predict(val_sentences)"
      ],
      "cell_type": "code",
      "metadata": {
        "id": "mjxum4rS2OBe"
      },
      "execution_count": 27,
      "outputs": []
    },
    {
      "cell_type": "code",
      "source": [
        "from sklearn.metrics import accuracy_score, precision_score\n",
        "accuracy_score(val_labels, val_predictions) * 100, precision_score(val_labels, val_predictions) * 100"
      ],
      "metadata": {
        "colab": {
          "base_uri": "https://localhost:8080/"
        },
        "id": "REb1rurvyOKc",
        "outputId": "9494cace-a115-44e4-e65d-314baeadf4a7"
      },
      "execution_count": 29,
      "outputs": [
        {
          "output_type": "execute_result",
          "data": {
            "text/plain": [
              "(79.84241628365069, 85.23622047244095)"
            ]
          },
          "metadata": {},
          "execution_count": 29
        }
      ]
    },
    {
      "cell_type": "code",
      "source": [
        "from sklearn.metrics import confusion_matrix\n",
        "confusion_matrix(val_labels, val_predictions)"
      ],
      "metadata": {
        "colab": {
          "base_uri": "https://localhost:8080/"
        },
        "id": "BVZxn2z_2G8w",
        "outputId": "03376392-5686-43b6-bcfc-3e55ac44c86b"
      },
      "execution_count": 30,
      "outputs": [
        {
          "output_type": "execute_result",
          "data": {
            "text/plain": [
              "array([[783,  75],\n",
              "       [232, 433]])"
            ]
          },
          "metadata": {},
          "execution_count": 30
        }
      ]
    },
    {
      "source": [
        "import nltk\n",
        "nltk.download('stopwords')\n",
        "from nltk.corpus import stopwords"
      ],
      "cell_type": "code",
      "metadata": {
        "colab": {
          "base_uri": "https://localhost:8080/"
        },
        "id": "Omq94mPc3qY5",
        "outputId": "d8d20032-514d-4734-98a3-cb43f2214293"
      },
      "execution_count": 32,
      "outputs": [
        {
          "output_type": "stream",
          "name": "stderr",
          "text": [
            "[nltk_data] Downloading package stopwords to /root/nltk_data...\n",
            "[nltk_data]   Unzipping corpora/stopwords.zip.\n"
          ]
        }
      ]
    },
    {
      "source": [
        "def remove_stopwords(text):\n",
        "    stop_words = set(stopwords.words('english'))\n",
        "    words = text.split()\n",
        "    filtered_words = [word for word in words if word.lower() not in stop_words]\n",
        "    return ' '.join(filtered_words)"
      ],
      "cell_type": "code",
      "metadata": {
        "id": "i9wZwodF3q7s"
      },
      "execution_count": 33,
      "outputs": []
    },
    {
      "source": [
        "train_sentences_no_stopwords = [remove_stopwords(sentence) for sentence in train_sentences]\n",
        "val_sentences_no_stopwords = [remove_stopwords(sentence) for sentence in val_sentences]"
      ],
      "cell_type": "code",
      "metadata": {
        "id": "yjo08ms33rue"
      },
      "execution_count": 34,
      "outputs": []
    },
    {
      "cell_type": "code",
      "source": [
        "\n",
        "Naive_model_2 = Pipeline([('tfidf', TfidfVectorizer()), ('nb', MultinomialNB())])\n",
        "\n",
        "param_grid = {\n",
        "    'tfidf__max_df': [0.7, 0.8, 0.9,0.5],\n",
        "    'tfidf__min_df': [2, 5, 10],\n",
        "    'nb__alpha': [0.1, 1.0, 10.0,0.01]\n",
        "}\n",
        "\n",
        "grid_search = GridSearchCV(Naive_model_2, param_grid, cv=10, scoring='accuracy')\n",
        "\n",
        "grid_search.fit(train_sentences_no_stopwords, train_labels)\n",
        "\n",
        "print(\"Best parameters:\", grid_search.best_params_)\n",
        "print(\"Best score:\", grid_search.best_score_)"
      ],
      "metadata": {
        "colab": {
          "base_uri": "https://localhost:8080/"
        },
        "id": "RetNNUwk3tRA",
        "outputId": "242db559-5d56-4ea9-cf05-23681b708ebc"
      },
      "execution_count": 35,
      "outputs": [
        {
          "output_type": "stream",
          "name": "stdout",
          "text": [
            "Best parameters: {'nb__alpha': 1.0, 'tfidf__max_df': 0.5, 'tfidf__min_df': 2}\n",
            "Best score: 0.8044334975369457\n"
          ]
        }
      ]
    },
    {
      "cell_type": "code",
      "source": [
        "from sklearn.metrics import accuracy_score, precision_score\n",
        "val_predictions = grid_search.predict(val_sentences_no_stopwords)\n",
        "accuracy_score(val_labels, val_predictions) * 100, precision_score(val_labels, val_predictions) * 100"
      ],
      "metadata": {
        "colab": {
          "base_uri": "https://localhost:8080/"
        },
        "id": "PEPP5dWa3-pr",
        "outputId": "30b748f3-983e-48e3-a600-f1c92b01e3cc"
      },
      "execution_count": 36,
      "outputs": [
        {
          "output_type": "execute_result",
          "data": {
            "text/plain": [
              "(79.84241628365069, 83.90151515151516)"
            ]
          },
          "metadata": {},
          "execution_count": 36
        }
      ]
    }
  ]
}